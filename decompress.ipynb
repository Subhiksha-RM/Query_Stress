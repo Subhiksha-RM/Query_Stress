{
 "cells": [
  {
   "cell_type": "markdown",
   "metadata": {},
   "source": [
    "# Decompressing and saving static_100_large"
   ]
  },
  {
   "cell_type": "code",
   "execution_count": 1,
   "metadata": {},
   "outputs": [],
   "source": [
    "import os\n",
    "import json\n",
    "\n",
    "def decompress_schema(compressed_data):\n",
    "    decompressed = {\n",
    "        \"directed\": compressed_data[\"directed\"],\n",
    "        \"multigraph\": compressed_data[\"multigraph\"],\n",
    "        \"graph\": compressed_data[\"graph\"],\n",
    "        \"nodes\": [],\n",
    "        \"links\": []\n",
    "    }\n",
    "    \n",
    "    # Decompress nodes\n",
    "    for node_type, keys in compressed_data[\"node_types\"].items():\n",
    "        for values in compressed_data[\"node_values\"][node_type]:\n",
    "            node = dict(zip(keys, values))\n",
    "            decompressed[\"nodes\"].append(node)\n",
    "    \n",
    "    # Decompress links\n",
    "    for values in compressed_data[\"link_values\"]:\n",
    "        rel_type = values[0]  # Assuming relationship_type is always first\n",
    "        keys = compressed_data[\"relationship_types\"][rel_type]\n",
    "        link = dict(zip(keys, values))\n",
    "        decompressed[\"links\"].append(link)\n",
    "    \n",
    "    return decompressed\n",
    "\n",
    "def process_files(input_folder, output_folder):\n",
    "    # Ensure output folder exists\n",
    "    os.makedirs(output_folder, exist_ok=True)\n",
    "    \n",
    "    # Loop through each file in the input folder\n",
    "    for filename in os.listdir(input_folder):\n",
    "        if filename.endswith(\".json\"):\n",
    "            input_path = os.path.join(input_folder, filename)\n",
    "            output_path = os.path.join(output_folder, filename)\n",
    "            \n",
    "            # Read the compressed JSON data\n",
    "            with open(input_path, 'r') as f:\n",
    "                compressed_data = json.load(f)\n",
    "            \n",
    "            # Decompress the data\n",
    "            decompressed_data = decompress_schema(compressed_data)\n",
    "            \n",
    "            # Save the decompressed JSON data to the output folder\n",
    "            with open(output_path, 'w') as f:\n",
    "                json.dump(decompressed_data, f, indent=4)\n",
    "\n",
    "# Example usage\n",
    "input_folder = 'C:/Users/HP/LAM_VS/query_stress/static_100_large'\n",
    "output_folder = 'C:/Users/HP/LAM_VS/query_stress/dc_stat_100_large'\n",
    "process_files(input_folder, output_folder)\n"
   ]
  },
  {
   "cell_type": "code",
   "execution_count": null,
   "metadata": {},
   "outputs": [],
   "source": []
  }
 ],
 "metadata": {
  "kernelspec": {
   "display_name": "Python 3",
   "language": "python",
   "name": "python3"
  },
  "language_info": {
   "codemirror_mode": {
    "name": "ipython",
    "version": 3
   },
   "file_extension": ".py",
   "mimetype": "text/x-python",
   "name": "python",
   "nbconvert_exporter": "python",
   "pygments_lexer": "ipython3",
   "version": "3.13.0"
  }
 },
 "nbformat": 4,
 "nbformat_minor": 2
}
